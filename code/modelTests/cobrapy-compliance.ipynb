{
 "cells": [
  {
   "cell_type": "markdown",
   "metadata": {},
   "source": [
    "# cobrapy compliance\n",
    "\n",
    "Notebook for confirming that every field is preserved when the model is used with cobrapy."
   ]
  },
  {
   "cell_type": "code",
   "execution_count": 1,
   "metadata": {},
   "outputs": [],
   "source": [
    "import cobra\n",
    "model = cobra.io.read_sbml_model(\"../../model/yeast-GEM.xml\")"
   ]
  },
  {
   "cell_type": "markdown",
   "metadata": {},
   "source": [
    "## 1. Metabolites"
   ]
  },
  {
   "cell_type": "code",
   "execution_count": 2,
   "metadata": {},
   "outputs": [
    {
     "data": {
      "text/html": [
       "\n",
       "        <table>\n",
       "            <tr>\n",
       "                <td><strong>Metabolite identifier</strong></td><td>s_0001</td>\n",
       "            </tr><tr>\n",
       "                <td><strong>Name</strong></td><td>(1->3)-beta-D-glucan</td>\n",
       "            </tr><tr>\n",
       "                <td><strong>Memory address</strong></td>\n",
       "                <td>0x07fdceeef3040</td>\n",
       "            </tr><tr>\n",
       "                <td><strong>Formula</strong></td><td>C6H10O5</td>\n",
       "            </tr><tr>\n",
       "                <td><strong>Compartment</strong></td><td>ce</td>\n",
       "            </tr><tr>\n",
       "                <td><strong>In 3 reaction(s)</strong></td><td>\n",
       "                    r_4048, r_1543, r_0005</td>\n",
       "            </tr>\n",
       "        </table>"
      ],
      "text/plain": [
       "<Metabolite s_0001 at 0x7fdceeef3040>"
      ]
     },
     "execution_count": 2,
     "metadata": {},
     "output_type": "execute_result"
    }
   ],
   "source": [
    "model.metabolites[0]"
   ]
  },
  {
   "cell_type": "code",
   "execution_count": 3,
   "metadata": {},
   "outputs": [
    {
     "data": {
      "text/plain": [
       "0"
      ]
     },
     "execution_count": 3,
     "metadata": {},
     "output_type": "execute_result"
    }
   ],
   "source": [
    "model.metabolites[0].charge"
   ]
  },
  {
   "cell_type": "code",
   "execution_count": 4,
   "metadata": {},
   "outputs": [
    {
     "data": {
      "text/plain": [
       "{'sbo': 'SBO:0000247',\n",
       " 'bigg.metabolite': '13BDglcn',\n",
       " 'chebi': 'CHEBI:37671',\n",
       " 'kegg.compound': 'C00965',\n",
       " 'metanetx.chemical': 'MNXM6492'}"
      ]
     },
     "execution_count": 4,
     "metadata": {},
     "output_type": "execute_result"
    }
   ],
   "source": [
    "model.metabolites[0].annotation"
   ]
  },
  {
   "cell_type": "markdown",
   "metadata": {},
   "source": [
    "## 2. Reactions"
   ]
  },
  {
   "cell_type": "code",
   "execution_count": 5,
   "metadata": {},
   "outputs": [
    {
     "data": {
      "text/html": [
       "\n",
       "        <table>\n",
       "            <tr>\n",
       "                <td><strong>Reaction identifier</strong></td><td>r_2112</td>\n",
       "            </tr><tr>\n",
       "                <td><strong>Name</strong></td><td>kynurenine aminotransferase</td>\n",
       "            </tr><tr>\n",
       "                <td><strong>Memory address</strong></td>\n",
       "                <td>0x07fdcee0cfa00</td>\n",
       "            </tr><tr>\n",
       "                <td><strong>Stoichiometry</strong></td>\n",
       "                <td>\n",
       "                    <p style='text-align:right'>s_1020 + s_1399 <=> s_0803 + s_0955 + s_2763</p>\n",
       "                    <p style='text-align:right'>L-kynurenine + pyruvate <=> H2O + L-alanine + kynurenic acid</p>\n",
       "                </td>\n",
       "            </tr><tr>\n",
       "                <td><strong>GPR</strong></td><td>YJL060W</td>\n",
       "            </tr><tr>\n",
       "                <td><strong>Lower bound</strong></td><td>-1000.0</td>\n",
       "            </tr><tr>\n",
       "                <td><strong>Upper bound</strong></td><td>1000.0</td>\n",
       "            </tr>\n",
       "        </table>\n",
       "        "
      ],
      "text/plain": [
       "<Reaction r_2112 at 0x7fdcee0cfa00>"
      ]
     },
     "execution_count": 5,
     "metadata": {},
     "output_type": "execute_result"
    }
   ],
   "source": [
    "model.reactions.get_by_id(\"r_2112\")"
   ]
  },
  {
   "cell_type": "code",
   "execution_count": 6,
   "metadata": {},
   "outputs": [
    {
     "data": {
      "text/plain": [
       "{'sbo': 'SBO:0000176',\n",
       " 'ec-code': '2.6.1.7',\n",
       " 'kegg.pathway': 'sce00380',\n",
       " 'kegg.reaction': 'R01959',\n",
       " 'metanetx.reaction': 'MNXR132503',\n",
       " 'pubmed': '18205391'}"
      ]
     },
     "execution_count": 6,
     "metadata": {},
     "output_type": "execute_result"
    }
   ],
   "source": [
    "model.reactions.get_by_id(\"r_2112\").annotation"
   ]
  },
  {
   "cell_type": "code",
   "execution_count": 7,
   "metadata": {},
   "outputs": [
    {
     "data": {
      "text/plain": [
       "{'Confidence Level': '3',\n",
       " 'NOTES': 'MetaNetX ID curated (PR #220) | alternative MetaNetX ID MNXR99596 (PR #220) | model.S(610,847) curated (PR #222)'}"
      ]
     },
     "execution_count": 7,
     "metadata": {},
     "output_type": "execute_result"
    }
   ],
   "source": [
    "model.reactions.get_by_id(\"r_2112\").notes"
   ]
  },
  {
   "cell_type": "markdown",
   "metadata": {},
   "source": [
    "## 3. Genes"
   ]
  },
  {
   "cell_type": "code",
   "execution_count": 8,
   "metadata": {},
   "outputs": [
    {
     "data": {
      "text/html": [
       "\n",
       "        <table>\n",
       "            <tr>\n",
       "                <td><strong>Gene identifier</strong></td><td>Q0045</td>\n",
       "            </tr><tr>\n",
       "                <td><strong>Name</strong></td><td></td>\n",
       "            </tr><tr>\n",
       "                <td><strong>Memory address</strong></td>\n",
       "                <td>0x07fdceeac3a60</td>\n",
       "            </tr><tr>\n",
       "                <td><strong>Functional</strong></td><td>True</td>\n",
       "            </tr><tr>\n",
       "                <td><strong>In 1 reaction(s)</strong></td><td>\n",
       "                    r_0438</td>\n",
       "            </tr>\n",
       "        </table>"
      ],
      "text/plain": [
       "<Gene Q0045 at 0x7fdceeac3a60>"
      ]
     },
     "execution_count": 8,
     "metadata": {},
     "output_type": "execute_result"
    }
   ],
   "source": [
    "model.genes[0]"
   ]
  },
  {
   "cell_type": "markdown",
   "metadata": {},
   "source": [
    "# 4. Subsystems"
   ]
  },
  {
   "cell_type": "code",
   "execution_count": 9,
   "metadata": {},
   "outputs": [
    {
     "data": {
      "text/plain": [
       "'Arginine and proline metabolism'"
      ]
     },
     "execution_count": 9,
     "metadata": {},
     "output_type": "execute_result"
    }
   ],
   "source": [
    "model.groups[4].name"
   ]
  },
  {
   "cell_type": "code",
   "execution_count": 10,
   "metadata": {},
   "outputs": [
    {
     "data": {
      "text/plain": [
       "[<Reaction r_0145 at 0x7fdcee8b2df0>,\n",
       " <Reaction r_0199 at 0x7fdcee823b20>,\n",
       " <Reaction r_0201 at 0x7fdcee887df0>,\n",
       " <Reaction r_0331 at 0x7fdcee773d00>,\n",
       " <Reaction r_0468 at 0x7fdcee6e46a0>,\n",
       " <Reaction r_0473 at 0x7fdcee6f52e0>,\n",
       " <Reaction r_0672 at 0x7fdcee607400>,\n",
       " <Reaction r_0673 at 0x7fdcee599d00>,\n",
       " <Reaction r_0681 at 0x7fdcee5ad760>,\n",
       " <Reaction r_0682 at 0x7fdcee5adc10>,\n",
       " <Reaction r_0683 at 0x7fdcee5adc40>,\n",
       " <Reaction r_0687 at 0x7fdcee5ada60>,\n",
       " <Reaction r_0817 at 0x7fdcee52e550>,\n",
       " <Reaction r_0819 at 0x7fdcee4f76a0>,\n",
       " <Reaction r_0929 at 0x7fdcee4c5970>,\n",
       " <Reaction r_0936 at 0x7fdcee4c5be0>,\n",
       " <Reaction r_0937 at 0x7fdcee4c50a0>,\n",
       " <Reaction r_0940 at 0x7fdcee452ee0>,\n",
       " <Reaction r_0957 at 0x7fdcee468ee0>,\n",
       " <Reaction r_1001 at 0x7fdcee432e50>,\n",
       " <Reaction r_1002 at 0x7fdcee432dc0>,\n",
       " <Reaction r_1739 at 0x7fdcee1dff40>,\n",
       " <Reaction r_1871 at 0x7fdcee1b7ee0>,\n",
       " <Reaction r_1887 at 0x7fdcee14c9d0>,\n",
       " <Reaction r_2050 at 0x7fdcee125be0>,\n",
       " <Reaction r_4292 at 0x7fdced562190>,\n",
       " <Reaction r_4293 at 0x7fdced54f610>,\n",
       " <Reaction r_4302 at 0x7fdced577520>,\n",
       " <Reaction r_4363 at 0x7fdced5447f0>,\n",
       " <Reaction r_4366 at 0x7fdced4d8bb0>]"
      ]
     },
     "execution_count": 10,
     "metadata": {},
     "output_type": "execute_result"
    }
   ],
   "source": [
    "model.groups[4].members"
   ]
  },
  {
   "cell_type": "code",
   "execution_count": null,
   "metadata": {},
   "outputs": [],
   "source": []
  }
 ],
 "metadata": {
  "kernelspec": {
   "display_name": "Python 3",
   "language": "python",
   "name": "python3"
  },
  "language_info": {
   "codemirror_mode": {
    "name": "ipython",
    "version": 3
   },
   "file_extension": ".py",
   "mimetype": "text/x-python",
   "name": "python",
   "nbconvert_exporter": "python",
   "pygments_lexer": "ipython3",
   "version": "3.8.10"
  }
 },
 "nbformat": 4,
 "nbformat_minor": 4
}
