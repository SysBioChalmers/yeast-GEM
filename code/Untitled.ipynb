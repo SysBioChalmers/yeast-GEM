{
 "cells": [
  {
   "cell_type": "markdown",
   "id": "metallic-characterization",
   "metadata": {},
   "source": [
    "# Scripts for volatile additions to yeast"
   ]
  },
  {
   "cell_type": "code",
   "execution_count": 1,
   "id": "liable-porcelain",
   "metadata": {},
   "outputs": [],
   "source": [
    "import os\n",
    "import pandas as pd\n",
    "from cobra import Model, Reaction, Metabolite\n",
    "\n",
    "import ioyeast as io"
   ]
  },
  {
   "cell_type": "code",
   "execution_count": 172,
   "id": "decimal-brooklyn",
   "metadata": {},
   "outputs": [],
   "source": [
    "def FindMetAnnot(metabolites, Annotation, Target):\n",
    "    for met in metabolites:\n",
    "        if met.annotation.keys():\n",
    "            if Annotation in met.annotation.keys():\n",
    "                if Target in met.annotation[Annotation]:\n",
    "                    print(met.name,met.id)"
   ]
  },
  {
   "cell_type": "code",
   "execution_count": 177,
   "id": "hindu-print",
   "metadata": {},
   "outputs": [
    {
     "data": {
      "text/html": [
       "\n",
       "        <table>\n",
       "            <tr>\n",
       "                <td><strong>Name</strong></td>\n",
       "                <td>yeastGEM_develop</td>\n",
       "            </tr><tr>\n",
       "                <td><strong>Memory address</strong></td>\n",
       "                <td>0x07efdc536f850</td>\n",
       "            </tr><tr>\n",
       "                <td><strong>Number of metabolites</strong></td>\n",
       "                <td>2744</td>\n",
       "            </tr><tr>\n",
       "                <td><strong>Number of reactions</strong></td>\n",
       "                <td>4063</td>\n",
       "            </tr><tr>\n",
       "                <td><strong>Number of groups</strong></td>\n",
       "                <td>106</td>\n",
       "            </tr><tr>\n",
       "                <td><strong>Objective expression</strong></td>\n",
       "                <td>1.0*r_2111 - 1.0*r_2111_reverse_58b69</td>\n",
       "            </tr><tr>\n",
       "                <td><strong>Compartments</strong></td>\n",
       "                <td>cell envelope, cytoplasm, extracellular, mitochondrion, nucleus, peroxisome, endoplasmic reticulum, Golgi, lipid particle, vacuole, endoplasmic reticulum membrane, vacuolar membrane, Golgi membrane, mitochondrial membrane</td>\n",
       "            </tr>\n",
       "          </table>"
      ],
      "text/plain": [
       "<Model yeastGEM_develop at 0x7efdc536f850>"
      ]
     },
     "execution_count": 177,
     "metadata": {},
     "output_type": "execute_result"
    }
   ],
   "source": [
    "# os.chdir(os.path.abspath(os.pardir))\n",
    "# os.getcwd()\n",
    "MODEL_PATH = os.path.join(os.path.abspath(os.pardir), 'model','yeast-GEM.xml')\n",
    "model = io.read_yeast_model(MODEL_PATH)\n",
    "model"
   ]
  },
  {
   "cell_type": "markdown",
   "id": "lesser-yield",
   "metadata": {},
   "source": [
    "## Loading reference table"
   ]
  },
  {
   "cell_type": "code",
   "execution_count": 178,
   "id": "attended-yacht",
   "metadata": {},
   "outputs": [],
   "source": [
    "RefFile = 'VolatL1.csv'\n",
    "RefAddr = MODEL_PATH = os.path.join(os.path.abspath(os.pardir), 'data','iamb',RefFile)\n",
    "# print(RefAddr)\n",
    "Rxn_df = pd.read_csv(RefAddr, sep='\\t')"
   ]
  },
  {
   "cell_type": "markdown",
   "id": "fifty-somalia",
   "metadata": {},
   "source": [
    "## Searching metabolites"
   ]
  },
  {
   "cell_type": "code",
   "execution_count": 175,
   "id": "chubby-poverty",
   "metadata": {},
   "outputs": [
    {
     "data": {
      "text/plain": [
       "['2-hexaprenyl-5-hydroxy-6-methoxy-3-methyl-1,4-benzoquinone: s_0154 in m',\n",
       " '2-hexaprenyl-6-methoxy-1,4-benzoquinone: s_0155 in m',\n",
       " '2-hexaprenyl-6-methoxy-3-methyl-1,4-benzoquinone: s_0156 in m',\n",
       " '3-hexaprenyl-4,5-dihydroxybenzoic acid: s_0212 in c',\n",
       " '3-hexaprenyl-4,5-dihydroxybenzoic acid: s_0213 in m',\n",
       " '3-hexaprenyl-4-hydroxy-5-methoxybenzoic acid: s_0214 in m',\n",
       " '3-hexaprenyl-4-hydroxybenzoic acid: s_0215 in c',\n",
       " '3-hexaprenyl-4-hydroxybenzoic acid: s_0216 in m',\n",
       " '4-aminobenzoate: s_0271 in c',\n",
       " '4-aminobenzoate: s_0272 in e',\n",
       " '4-aminobenzoate: s_0273 in m',\n",
       " '4-hydroxybenzoate: s_0286 in c',\n",
       " '4-hydroxybenzoate: s_0287 in m',\n",
       " '4-hydroxybenzoyl-CoA: s_0290 in m',\n",
       " 'nonaprenyl 4-hydroxybenzoate: s_1230 in c',\n",
       " '1,4-benzosemiquinone: s_3763 in c',\n",
       " '3-chlorobenzyl alcohol: s_3789 in c',\n",
       " '3-chlorobenzaldehyde: s_3790 in c',\n",
       " '3-hydroxybenzyl alcohol: s_3791 in c',\n",
       " '3-hydroxybenzaldehyde: s_3792 in c',\n",
       " '3-methylbenzyl alcohol: s_3793 in c',\n",
       " '3-methylbenzaldehyde: s_3794 in c',\n",
       " '4-isopropylbenzyl alcohol: s_3795 in c',\n",
       " '4-methylbenzyl alcohol: s_3797 in c',\n",
       " '4-methylbenzaldehyde: s_3798 in c',\n",
       " 'benzyl alcohol: s_3799 in c',\n",
       " 'benzaldehyde: s_3800 in c',\n",
       " '(S)-benzoin: s_3828 in c',\n",
       " 'benzil: s_3829 in c']"
      ]
     },
     "execution_count": 175,
     "metadata": {},
     "output_type": "execute_result"
    }
   ],
   "source": [
    "checkMet = 'benz'\n",
    "['{}: {} in {}'.format(myMet.name, myMet.id, myMet.compartment) for myMet in model.metabolites.query(checkMet,'name')]\n",
    "# FindMetAnnot(model.metabolites, 'chebi', '16150')"
   ]
  },
  {
   "cell_type": "markdown",
   "id": "imposed-dance",
   "metadata": {},
   "source": [
    "## Adding reactions from table to model"
   ]
  },
  {
   "cell_type": "code",
   "execution_count": 179,
   "id": "strong-illustration",
   "metadata": {},
   "outputs": [
    {
     "name": "stdout",
     "output_type": "stream",
     "text": [
      "Add reaction esterase in c.\n",
      "r1234c\n",
      "s_0063 + s_0680 + s_0794 --> eslac1 + s_0803\n",
      "{}\n",
      "Add reaction esterase in e.\n",
      "r1235e\n",
      "s_0064 + s_0681 + s_0796 --> eslac2 + s_0805\n",
      "{}\n",
      "Add reaction esterase in m.\n",
      "r1236m\n",
      "s_0065 + s_0682 + s_0799 --> eslac3 + s_0807\n",
      "{}\n",
      "Add reaction esterase in c.\n",
      "r1240c\n",
      "2.0 s_0680 + 2.0 s_0794 + s_1458 --> desuc_c + 2.0 s_0803\n",
      "{}\n",
      "Add reaction esterase in c.\n",
      "r1241c\n",
      "s_0680 + s_0794 + s_3874 --> eben_c + s_0803\n",
      "{}\n",
      "Add reaction esterase in c.\n",
      "r1242c\n",
      "s_0680 + s_0794 + s_1399 --> epyr_c + s_0803\n",
      "{}\n",
      "Add reaction esterase in c.\n",
      "r1243c\n",
      "s_0680 + s_0794 + s_1458 --> mesuc_c + s_0803\n",
      "{}\n",
      "Add reaction esterase in c.\n",
      "r1244c\n",
      "s_0362 + s_0794 + s_3799 --> bace_c + s_0803\n",
      "{}\n"
     ]
    }
   ],
   "source": [
    "for index, row in Rxn_df.iterrows():\n",
    "    if bool(row['Use']):# if ID not in model.reactions:\n",
    "        print('Add reaction {} in {}.'.format(row['Rxn-Name'], row['Compartment']))\n",
    "        ID = '{}{}'.format(row['Rxn-ID'], row['Compartment'])\n",
    "        reaction = Reaction(ID)\n",
    "        reaction.name = row['Rxn-Name']\n",
    "        reaction.lower_bound = 0.\n",
    "        reaction.upper_bound = 1000.\n",
    "        reaction.annotation = {'sbo': 'SBO:0000176', 'ec-code': '3.1.-.-'}\n",
    "        SubAc = model.metabolites.get_by_id(row['Substrate-AcidID'])\n",
    "        SubAlc = model.metabolites.get_by_id(row['Substrate-AlcID'])\n",
    "        SubH = model.metabolites.get_by_id(row['Substrate-HID'])\n",
    "        ProH2O = model.metabolites.get_by_id(row['Product-H2OID'])\n",
    "        Prod = Metabolite(\n",
    "            row['Product-ID'],\n",
    "            formula = row['Product-Formula'],\n",
    "            name = row['Product-Formula'],\n",
    "            charge = row['Product-Charge'],\n",
    "            compartment = row['Compartment'],\n",
    "        )\n",
    "        Prod.annotation = {'sbo':row['Product-SBO'], 'chebi':row['Product-CHEBI']}    \n",
    "        reaction.add_metabolites({SubAc:-1., SubAlc:float(row['Substrate-AlcStoich']), SubH:float(row['Substrate-HStoich']), Prod:1., ProH2O:float(row['Product-H2OStoich'])})\n",
    "        model.add_reactions([reaction])\n",
    "\n",
    "        print(model.reactions.get_by_id(ID).id)\n",
    "        print(model.reactions.get_by_id(ID).reaction)\n",
    "        print(model.reactions.get_by_id(ID).check_mass_balance())"
   ]
  }
 ],
 "metadata": {
  "kernelspec": {
   "display_name": "yeast39",
   "language": "python",
   "name": "yeast39"
  },
  "language_info": {
   "codemirror_mode": {
    "name": "ipython",
    "version": 3
   },
   "file_extension": ".py",
   "mimetype": "text/x-python",
   "name": "python",
   "nbconvert_exporter": "python",
   "pygments_lexer": "ipython3",
   "version": "3.9.13"
  }
 },
 "nbformat": 4,
 "nbformat_minor": 5
}
